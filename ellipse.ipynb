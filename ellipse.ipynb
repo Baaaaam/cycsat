{
 "cells": [
  {
   "cell_type": "code",
   "execution_count": 5,
   "metadata": {
    "collapsed": true
   },
   "outputs": [],
   "source": [
    "import matplotlib.pyplot as plt\n",
    "import numpy as np\n",
    "\n",
    "from shapely.geometry import Point, LineString\n",
    "from shapely.ops import polygonize, unary_union, cascaded_union\n",
    "from shapely.affinity import scale, rotate\n",
    "\n",
    "import random\n",
    "from descartes import PolygonPatch\n",
    "\n",
    "%matplotlib inline"
   ]
  },
  {
   "cell_type": "code",
   "execution_count": 181,
   "metadata": {
    "collapsed": false
   },
   "outputs": [
    {
     "data": {
      "text/plain": [
       "<matplotlib.patches.PathPatch at 0x202c93c4198>"
      ]
     },
     "execution_count": 181,
     "metadata": {},
     "output_type": "execute_result"
    },
    {
     "data": {
      "image/png": "[encoded data removed]",
      "text/plain": [
       "<matplotlib.figure.Figure at 0x202c9306240>"
      ]
     },
     "metadata": {},
     "output_type": "display_data"
    }
   ],
   "source": [
    "circle = Point(30,30).buffer(10)\n",
    "center = Point(30,30).buffer(1)\n",
    "\n",
    "r =  random.randint(-180,180)\n",
    "\n",
    "oval = scale(circle,1,1.5)#origin=Point(30,40))\n",
    "roval1 = rotate(oval,r, Point(30,35))\n",
    "\n",
    "ax1 = plt.subplot(111)\n",
    "ax1.set_xlim([-25,60])\n",
    "ax1.set_ylim([-25,60])\n",
    "ax1.set_aspect('equal')\n",
    "\n",
    "ax1.add_patch(PolygonPatch(circle,alpha=0.5))\n",
    "ax1.add_patch(PolygonPatch(center,alpha=0.5))\n",
    "ax1.add_patch(PolygonPatch(oval,alpha=0.5))"
   ]
  },
  {
   "cell_type": "code",
   "execution_count": 182,
   "metadata": {
    "collapsed": false
   },
   "outputs": [
    {
     "data": {
      "text/plain": [
       "750.0"
      ]
     },
     "execution_count": 182,
     "metadata": {},
     "output_type": "execute_result"
    }
   ],
   "source": [
    "500*1.5"
   ]
  },
  {
   "cell_type": "code",
   "execution_count": null,
   "metadata": {
    "collapsed": true
   },
   "outputs": [],
   "source": []
  }
 ],
 "metadata": {
  "kernelspec": {
   "display_name": "Python 3",
   "language": "python",
   "name": "python3"
  },
  "language_info": {
   "codemirror_mode": {
    "name": "ipython",
    "version": 3
   },
   "file_extension": ".py",
   "mimetype": "text/x-python",
   "name": "python",
   "nbconvert_exporter": "python",
   "pygments_lexer": "ipython3",
   "version": "3.5.2"
  }
 },
 "nbformat": 4,
 "nbformat_minor": 1
}
