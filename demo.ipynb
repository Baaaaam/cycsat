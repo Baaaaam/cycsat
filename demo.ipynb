{
 "cells": [
  {
   "cell_type": "code",
   "execution_count": 1,
   "metadata": {
    "collapsed": false
   },
   "outputs": [
    {
     "data": {
      "text/plain": [
       "'C:/Users/Owen/Documents/Academic/CNERG/cycsat/reactor_test_sample.sqlite'"
      ]
     },
     "execution_count": 1,
     "metadata": {},
     "output_type": "execute_result"
    }
   ],
   "source": [
    "from shutil import copyfile\n",
    "\n",
    "# copying the test database (this is just for repeated testing)\n",
    "src = 'C:/Users/Owen/Documents/Academic/CNERG/cycsat/simulations/four_reactors.sqlite'\n",
    "dst = 'C:/Users/Owen/Documents/Academic/CNERG/cycsat/reactor_test_sample.sqlite'\n",
    "copyfile(src, dst)"
   ]
  },
  {
   "cell_type": "markdown",
   "metadata": {},
   "source": [
    "## import key libraries"
   ]
  },
  {
   "cell_type": "code",
   "execution_count": 2,
   "metadata": {
    "collapsed": true
   },
   "outputs": [],
   "source": [
    "from cycsat.archetypes import Facility, Feature, Shape, Rule\n",
    "from cycsat.simulation import CycSat\n",
    "from cycsat.shapes import Circle, Rectangle\n",
    "\n",
    "%matplotlib inline"
   ]
  },
  {
   "cell_type": "markdown",
   "metadata": {},
   "source": [
    "## define the facilities"
   ]
  },
  {
   "cell_type": "code",
   "execution_count": 3,
   "metadata": {
    "collapsed": true
   },
   "outputs": [],
   "source": [
    "# this loads a cyclus simulation\n",
    "sim = CycSat('reactor_test_sample.sqlite')"
   ]
  },
  {
   "cell_type": "code",
   "execution_count": 4,
   "metadata": {
    "collapsed": true
   },
   "outputs": [],
   "source": [
    "SampleReactor = Facility(name='test reactor',width=2000,length=2000)\n",
    "\n",
    "ConcretePad = Feature(name='concrete pad')\n",
    "ConcretePad.level = 0\n",
    "ConcretePad.visibility = 100\n",
    "ConcretePad.shapes = [Rectangle(width=700,length=685,rgb=[155,155,155])]\n",
    "ConcretePad.rules = [Rule(oper='ROTATE',value=20)]\n",
    "SampleReactor.features.append(ConcretePad)\n",
    "\n",
    "BuildingSet = Feature(name='building set')\n",
    "BuildingSet.level = 1\n",
    "BuildingSet.visibility = 100\n",
    "BuildingSet.shapes = [Rectangle(width=73,length=13,rgb=[70,70,70])]\n",
    "BuildingSet.rules = [Rule(oper='WITHIN',target='concrete pad'),\n",
    "                     Rule(oper='ROTATE',target='concrete pad')]\n",
    "SampleReactor.features.append(BuildingSet)\n",
    "\n",
    "\n",
    "CoolingTower1 = Feature(name='cooling tower 1')\n",
    "CoolingTower1.level = 1\n",
    "CoolingTower1.visibility = 100\n",
    "CoolingTower1.shapes = [Circle(radius=110,rgb=[70,70,70])]\n",
    "CoolingTower1.rules = [Rule(oper='WITHIN',target='concrete pad')]\n",
    "SampleReactor.features.append(CoolingTower1)\n",
    "\n",
    "# all Agent's in the CYCLUS database with a Spec \"Reactor\" will be drawn \n",
    "# with the template SampleReactor (defined above)\n",
    "templates = {\n",
    "    'Reactor' : SampleReactor,\n",
    "}"
   ]
  },
  {
   "cell_type": "markdown",
   "metadata": {},
   "source": [
    "## build and explore facilities"
   ]
  },
  {
   "cell_type": "code",
   "execution_count": 5,
   "metadata": {
    "collapsed": false
   },
   "outputs": [],
   "source": [
    "sim.build(name='test_build',templates=templates)"
   ]
  },
  {
   "cell_type": "code",
   "execution_count": 6,
   "metadata": {
    "collapsed": false
   },
   "outputs": [
    {
     "data": {
      "text/html": [
       "<div>\n",
       "<table border=\"1\" class=\"dataframe\">\n",
       "  <thead>\n",
       "    <tr style=\"text-align: right;\">\n",
       "      <th></th>\n",
       "      <th>id</th>\n",
       "      <th>AgentId</th>\n",
       "      <th>name</th>\n",
       "      <th>width</th>\n",
       "      <th>length</th>\n",
       "      <th>terrain</th>\n",
       "      <th>prototype</th>\n",
       "      <th>template</th>\n",
       "      <th>defined</th>\n",
       "      <th>ax_angle</th>\n",
       "      <th>wkt</th>\n",
       "      <th>site_id</th>\n",
       "      <th>build_id</th>\n",
       "      <th>obj</th>\n",
       "    </tr>\n",
       "  </thead>\n",
       "  <tbody>\n",
       "    <tr>\n",
       "      <th>0</th>\n",
       "      <td>2</td>\n",
       "      <td>19</td>\n",
       "      <td>test reactor</td>\n",
       "      <td>2000</td>\n",
       "      <td>2000</td>\n",
       "      <td>None</td>\n",
       "      <td>Reactor</td>\n",
       "      <td>False</td>\n",
       "      <td>True</td>\n",
       "      <td>None</td>\n",
       "      <td>None</td>\n",
       "      <td>None</td>\n",
       "      <td>1</td>\n",
       "      <td>&lt;cycsat.archetypes.Facility object at 0x000001...</td>\n",
       "    </tr>\n",
       "    <tr>\n",
       "      <th>1</th>\n",
       "      <td>3</td>\n",
       "      <td>20</td>\n",
       "      <td>test reactor</td>\n",
       "      <td>2000</td>\n",
       "      <td>2000</td>\n",
       "      <td>None</td>\n",
       "      <td>Reactor</td>\n",
       "      <td>False</td>\n",
       "      <td>True</td>\n",
       "      <td>None</td>\n",
       "      <td>None</td>\n",
       "      <td>None</td>\n",
       "      <td>1</td>\n",
       "      <td>&lt;cycsat.archetypes.Facility object at 0x000001...</td>\n",
       "    </tr>\n",
       "    <tr>\n",
       "      <th>2</th>\n",
       "      <td>4</td>\n",
       "      <td>21</td>\n",
       "      <td>test reactor</td>\n",
       "      <td>2000</td>\n",
       "      <td>2000</td>\n",
       "      <td>None</td>\n",
       "      <td>Reactor</td>\n",
       "      <td>False</td>\n",
       "      <td>True</td>\n",
       "      <td>None</td>\n",
       "      <td>None</td>\n",
       "      <td>None</td>\n",
       "      <td>1</td>\n",
       "      <td>&lt;cycsat.archetypes.Facility object at 0x000001...</td>\n",
       "    </tr>\n",
       "    <tr>\n",
       "      <th>3</th>\n",
       "      <td>5</td>\n",
       "      <td>22</td>\n",
       "      <td>test reactor</td>\n",
       "      <td>2000</td>\n",
       "      <td>2000</td>\n",
       "      <td>None</td>\n",
       "      <td>Reactor</td>\n",
       "      <td>False</td>\n",
       "      <td>True</td>\n",
       "      <td>None</td>\n",
       "      <td>None</td>\n",
       "      <td>None</td>\n",
       "      <td>1</td>\n",
       "      <td>&lt;cycsat.archetypes.Facility object at 0x000001...</td>\n",
       "    </tr>\n",
       "  </tbody>\n",
       "</table>\n",
       "</div>"
      ],
      "text/plain": [
       "   id  AgentId          name  width  length terrain prototype template  \\\n",
       "0   2       19  test reactor   2000    2000    None   Reactor    False   \n",
       "1   3       20  test reactor   2000    2000    None   Reactor    False   \n",
       "2   4       21  test reactor   2000    2000    None   Reactor    False   \n",
       "3   5       22  test reactor   2000    2000    None   Reactor    False   \n",
       "\n",
       "  defined ax_angle   wkt site_id  build_id  \\\n",
       "0    True     None  None    None         1   \n",
       "1    True     None  None    None         1   \n",
       "2    True     None  None    None         1   \n",
       "3    True     None  None    None         1   \n",
       "\n",
       "                                                 obj  \n",
       "0  <cycsat.archetypes.Facility object at 0x000001...  \n",
       "1  <cycsat.archetypes.Facility object at 0x000001...  \n",
       "2  <cycsat.archetypes.Facility object at 0x000001...  \n",
       "3  <cycsat.archetypes.Facility object at 0x000001...  "
      ]
     },
     "execution_count": 6,
     "metadata": {},
     "output_type": "execute_result"
    }
   ],
   "source": [
    "# look at the built facilities\n",
    "sim.facilities"
   ]
  },
  {
   "cell_type": "code",
   "execution_count": 7,
   "metadata": {
    "collapsed": false
   },
   "outputs": [
    {
     "data": {
      "text/plain": [
       "(<matplotlib.figure.Figure at 0x1ee739f3fd0>,\n",
       " <matplotlib.axes._subplots.AxesSubplot at 0x1ee739f7e80>)"
      ]
     },
     "execution_count": 7,
     "metadata": {},
     "output_type": "execute_result"
    },
    {
     "data": {
      "image/png": "[encoded data removed]",
      "text/plain": [
       "<matplotlib.figure.Figure at 0x1ee739f3fd0>"
      ]
     },
     "metadata": {},
     "output_type": "display_data"
    }
   ],
   "source": [
    "# plot a single facility with pandas\n",
    "sim.facilities.ix[1].obj.plot()"
   ]
  },
  {
   "cell_type": "code",
   "execution_count": 8,
   "metadata": {
    "collapsed": false
   },
   "outputs": [
    {
     "data": {
      "text/plain": [
       "(<matplotlib.figure.Figure at 0x1ee73a83cc0>,\n",
       " array([<matplotlib.axes._subplots.AxesSubplot object at 0x000001EE73AD3BA8>,\n",
       "        <matplotlib.axes._subplots.AxesSubplot object at 0x000001EE73B32B70>], dtype=object))"
      ]
     },
     "execution_count": 8,
     "metadata": {},
     "output_type": "execute_result"
    },
    {
     "data": {
      "image/png": "[encoded data removed]",
      "text/plain": [
       "<matplotlib.figure.Figure at 0x1ee73a83cc0>"
      ]
     },
     "metadata": {},
     "output_type": "display_data"
    }
   ],
   "source": [
    "# plot mulitple facilities with a sql query\n",
    "sim.plot(sql='AgentId > 20')"
   ]
  },
  {
   "cell_type": "code",
   "execution_count": 9,
   "metadata": {
    "collapsed": false
   },
   "outputs": [
    {
     "data": {
      "text/html": [
       "<div>\n",
       "<table border=\"1\" class=\"dataframe\">\n",
       "  <thead>\n",
       "    <tr style=\"text-align: right;\">\n",
       "      <th></th>\n",
       "      <th>id</th>\n",
       "      <th>name</th>\n",
       "      <th>obj</th>\n",
       "    </tr>\n",
       "  </thead>\n",
       "  <tbody>\n",
       "    <tr>\n",
       "      <th>0</th>\n",
       "      <td>1</td>\n",
       "      <td>test_build</td>\n",
       "      <td>&lt;cycsat.archetypes.Build object at 0x000001EE7...</td>\n",
       "    </tr>\n",
       "  </tbody>\n",
       "</table>\n",
       "</div>"
      ],
      "text/plain": [
       "   id        name                                                obj\n",
       "0   1  test_build  <cycsat.archetypes.Build object at 0x000001EE7..."
      ]
     },
     "execution_count": 9,
     "metadata": {},
     "output_type": "execute_result"
    }
   ],
   "source": [
    "# look at the different builds\n",
    "sim.builds"
   ]
  },
  {
   "cell_type": "markdown",
   "metadata": {},
   "source": [
    "## run the simulation and plot gifs"
   ]
  },
  {
   "cell_type": "code",
   "execution_count": 10,
   "metadata": {
    "collapsed": true
   },
   "outputs": [],
   "source": [
    "sim.simulate(1)"
   ]
  }
 ],
 "metadata": {
  "kernelspec": {
   "display_name": "Python 3",
   "language": "python",
   "name": "python3"
  },
  "language_info": {
   "codemirror_mode": {
    "name": "ipython",
    "version": 3
   },
   "file_extension": ".py",
   "mimetype": "text/x-python",
   "name": "python",
   "nbconvert_exporter": "python",
   "pygments_lexer": "ipython3",
   "version": "3.5.2"
  }
 },
 "nbformat": 4,
 "nbformat_minor": 1
}
