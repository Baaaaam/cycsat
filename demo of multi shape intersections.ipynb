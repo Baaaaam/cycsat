{
 "cells": [
  {
   "cell_type": "code",
   "execution_count": null,
   "metadata": {
    "collapsed": true
   },
   "outputs": [],
   "source": [
    "from opensimplex import OpenSimplex\n",
    "import matplotlib.pyplot as plt\n",
    "import numpy as np\n",
    "from shapely.geometry import Point, LineString\n",
    "from shapely.ops import polygonize, unary_union\n",
    "import random\n",
    "from descartes import PolygonPatch\n",
    "\n",
    "%matplotlib inline"
   ]
  },
  {
   "cell_type": "code",
   "execution_count": null,
   "metadata": {
    "collapsed": false
   },
   "outputs": [],
   "source": [
    "points = [Point(random.random(),random.random()).buffer(random.random()) for x in range(0,3)]\n",
    "\n",
    "ax = plt.subplot(1,1,1)\n",
    "ax.set_xlim([-2,2])\n",
    "ax.set_ylim([-2,2])\n",
    "ax.set_aspect('equal')\n",
    "\n",
    "for p in points:\n",
    "    ax.add_patch(PolygonPatch(p))"
   ]
  },
  {
   "cell_type": "code",
   "execution_count": null,
   "metadata": {
    "collapsed": false
   },
   "outputs": [],
   "source": [
    "rings = [LineString(pol.exterior.coords) for pol in points]\n",
    "union = unary_union(rings)\n",
    "result = [geom for geom in polygonize(union)]\n",
    "\n",
    "ax = plt.subplot(1,1,1)\n",
    "ax.set_xlim([-2,2])\n",
    "ax.set_ylim([-2,2])\n",
    "ax.set_aspect('equal')\n",
    "\n",
    "for r in result:\n",
    "    ax.add_patch(PolygonPatch(r))"
   ]
  },
  {
   "cell_type": "code",
   "execution_count": null,
   "metadata": {
    "collapsed": false
   },
   "outputs": [],
   "source": [
    "ax = plt.subplot(1,1,1)\n",
    "ax.set_xlim([-2,2])\n",
    "ax.set_ylim([-2,2])\n",
    "ax.set_aspect('equal')\n",
    "\n",
    "for r in result:\n",
    "    ax.add_patch(PolygonPatch(r))\n",
    "\n",
    "centroids = [p.representative_point() for p in result]\n",
    "\n",
    "finals = list()\n",
    "\n",
    "for res,c in zip(result,centroids):\n",
    "    checks = list()\n",
    "    for p in points:\n",
    "        if c.within(p):\n",
    "            checks.append(True)\n",
    "        else:\n",
    "            checks.append(False)\n",
    "    if False in checks:\n",
    "        rgb = 'red'\n",
    "    else:\n",
    "        rgb = 'green'\n",
    "        finals.append(res)\n",
    "    \n",
    "    ax.add_patch(PolygonPatch(res,facecolor=rgb))\n",
    "    ax.add_patch(PolygonPatch(c.buffer(0.05),facecolor=rgb))"
   ]
  },
  {
   "cell_type": "code",
   "execution_count": null,
   "metadata": {
    "collapsed": false
   },
   "outputs": [],
   "source": [
    "ax = plt.subplot(1,1,1)\n",
    "ax.set_xlim([-2,2])\n",
    "ax.set_ylim([-2,2])\n",
    "ax.set_aspect('equal')\n",
    "\n",
    "for p in points:\n",
    "    checks = list()\n",
    "    for c in centroids:\n",
    "        checks.append(c.within(p))\n",
    "    if False not in checks:\n",
    "        ax.add_patch(PolygonPatch(p,facecolor='green'))"
   ]
  },
  {
   "cell_type": "code",
   "execution_count": null,
   "metadata": {
    "collapsed": true
   },
   "outputs": [],
   "source": [
    "from cycsat.geometry import intersect"
   ]
  },
  {
   "cell_type": "code",
   "execution_count": null,
   "metadata": {
    "collapsed": false
   },
   "outputs": [],
   "source": [
    "a = intersect(points)"
   ]
  },
  {
   "cell_type": "code",
   "execution_count": null,
   "metadata": {
    "collapsed": false
   },
   "outputs": [],
   "source": [
    "a"
   ]
  },
  {
   "cell_type": "code",
   "execution_count": null,
   "metadata": {
    "collapsed": true
   },
   "outputs": [],
   "source": []
  }
 ],
 "metadata": {
  "kernelspec": {
   "display_name": "Python 3",
   "language": "python",
   "name": "python3"
  },
  "language_info": {
   "codemirror_mode": {
    "name": "ipython",
    "version": 3
   },
   "file_extension": ".py",
   "mimetype": "text/x-python",
   "name": "python",
   "nbconvert_exporter": "python",
   "pygments_lexer": "ipython3",
   "version": "3.5.2"
  }
 },
 "nbformat": 4,
 "nbformat_minor": 1
}
