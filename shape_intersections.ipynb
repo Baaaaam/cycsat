{
 "cells": [
  {
   "cell_type": "code",
   "execution_count": 185,
   "metadata": {
    "collapsed": true
   },
   "outputs": [],
   "source": [
    "from opensimplex import OpenSimplex\n",
    "import matplotlib.pyplot as plt\n",
    "import numpy as np\n",
    "from shapely.geometry import Point, LineString\n",
    "from shapely.ops import polygonize, unary_union, cascaded_union\n",
    "import random\n",
    "from descartes import PolygonPatch\n",
    "import itertools\n",
    "\n",
    "%matplotlib inline"
   ]
  },
  {
   "cell_type": "code",
   "execution_count": 254,
   "metadata": {
    "collapsed": false
   },
   "outputs": [
    {
     "data": {
      "image/png": "[encoded data removed]",
      "text/plain": [
       "<matplotlib.figure.Figure at 0x13ddeca5ef0>"
      ]
     },
     "metadata": {},
     "output_type": "display_data"
    }
   ],
   "source": [
    "points = [Point(random.random(),random.random()).buffer(random.random()) for x in range(0,3)]\n",
    "\n",
    "p1 = Point(0,0).buffer(0.5)\n",
    "p2 = Point(0,0).buffer(0.25)\n",
    "\n",
    "points += [p1.difference(p2)]\n",
    "\n",
    "ax1 = plt.subplot(121)\n",
    "ax1.set_xlim([-2,2])\n",
    "ax1.set_ylim([-2,2])\n",
    "ax1.set_aspect('equal')\n",
    "\n",
    "ax2 = plt.subplot(122)\n",
    "ax2.set_xlim([-2,2])\n",
    "ax2.set_ylim([-2,2])\n",
    "ax2.set_aspect('equal')\n",
    "\n",
    "for p in points:\n",
    "    ax1.add_patch(PolygonPatch(p,alpha=0.5))\n",
    "    \n",
    "# finds all the intersections\n",
    "result = [poly1.intersection(poly2) for poly1,poly2 in  itertools.combinations(points, 2) if poly1.intersects(poly2)]\n",
    "if len(result) > 1:\n",
    "    result = [poly1.intersection(poly2) for poly1,poly2 in  itertools.combinations(result, 2) if poly1.intersects(poly2)]\n",
    "\n",
    "centroids = [p.representative_point() for p in result]\n",
    "\n",
    "finals = list()\n",
    "\n",
    "for res,c in zip(result,centroids):\n",
    "    checks = list()\n",
    "    for p in points:\n",
    "        if c.within(p):\n",
    "            checks.append(True)\n",
    "        else:\n",
    "            checks.append(False)\n",
    "    if False in checks:\n",
    "        rgb = 'red'\n",
    "    else:\n",
    "        ax2.add_patch(PolygonPatch(res,facecolor='green',alpha=0.5))\n",
    "        finals.append(res)\n",
    "    \n",
    "    \n",
    "    #x2.add_patch(PolygonPatch(c.buffer(0.05),facecolor=rgb))"
   ]
  },
  {
   "cell_type": "code",
   "execution_count": 255,
   "metadata": {
    "collapsed": false
   },
   "outputs": [
    {
     "data": {
      "image/svg+xml": [
       "<svg xmlns=\"http://www.w3.org/2000/svg\" xmlns:xlink=\"http://www.w3.org/1999/xlink\" width=\"100.0\" height=\"100.0\" viewBox=\"-0.012474013743326724 0.31572807800491554 0.37935945066825466 0.17380377610886705\" preserveAspectRatio=\"xMinYMin meet\"><g transform=\"matrix(1,0,0,-1,0,0.8052599321186982)\"><path fill-rule=\"evenodd\" fill=\"#66cc99\" stroke=\"#555555\" stroke-width=\"0.007587189013365093\" opacity=\"0.6\" d=\"M 0.1534950943240715,0.4754815040890324 L 0.19134171618254295,0.4619397662556442 L 0.23569836841299682,0.4409606321741786 L 0.2777851165097991,0.41573480615127395 L 0.31719664208182075,0.3865052266813701 L 0.35283508690017773,0.3542044231120075 L 0.30445489261025227,0.34208581531085924 L 0.242277704147138,0.3328627006578252 L 0.17949589251800593,0.3297784280296657 L 0.11671408088887386,0.332862700657825 L 0.0545368924257596,0.3420858153108589 L 0.0015763362814234481,0.35535174402949443 L 0.018530842576481743,0.37821224939860854 L 0.04007496346152581,0.4019825237719033 L 0.06384523783482046,0.4235266446569473 L 0.08961274495999719,0.4426371303924032 L 0.11712932965748832,0.4591299365537844 L 0.1461299921745617,0.4728462284018719 L 0.1534950943240715,0.4754815040890324 z\" /></g></svg>"
      ],
      "text/plain": [
       "<shapely.geometry.polygon.Polygon at 0x13ddcdd3588>"
      ]
     },
     "execution_count": 255,
     "metadata": {},
     "output_type": "execute_result"
    }
   ],
   "source": [
    "intersect(points)"
   ]
  },
  {
   "cell_type": "code",
   "execution_count": null,
   "metadata": {
    "collapsed": true
   },
   "outputs": [],
   "source": []
  }
 ],
 "metadata": {
  "kernelspec": {
   "display_name": "Python 3",
   "language": "python",
   "name": "python3"
  },
  "language_info": {
   "codemirror_mode": {
    "name": "ipython",
    "version": 3
   },
   "file_extension": ".py",
   "mimetype": "text/x-python",
   "name": "python",
   "nbconvert_exporter": "python",
   "pygments_lexer": "ipython3",
   "version": "3.5.2"
  }
 },
 "nbformat": 4,
 "nbformat_minor": 1
}
