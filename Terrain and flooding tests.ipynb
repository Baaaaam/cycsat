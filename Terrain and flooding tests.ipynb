{
 "cells": [
  {
   "cell_type": "code",
   "execution_count": 1,
   "metadata": {
    "collapsed": true
   },
   "outputs": [],
   "source": [
    "%matplotlib inline\n",
    "\n",
    "from mpl_toolkits.mplot3d import axes3d\n",
    "import matplotlib.pyplot as plt\n",
    "from matplotlib import cm\n",
    "import numpy as np\n",
    "\n",
    "from cycsat.terrain import mpd, get_corners, floodFill\n",
    "from cycsat.image import write_array\n",
    "\n",
    "from osgeo import ogr, gdal, osr\n",
    "from geopandas import gpd"
   ]
  },
  {
   "cell_type": "code",
   "execution_count": 2,
   "metadata": {
    "collapsed": false
   },
   "outputs": [
    {
     "name": "stdout",
     "output_type": "stream",
     "text": [
      "generate\n"
     ]
    }
   ],
   "source": [
    "# generate terrain\n",
    "data = mpd(5,0)"
   ]
  },
  {
   "cell_type": "code",
   "execution_count": 3,
   "metadata": {
    "collapsed": false
   },
   "outputs": [
    {
     "name": "stdout",
     "output_type": "stream",
     "text": [
      "filling\n"
     ]
    }
   ],
   "source": [
    "print('filling')\n",
    "x,y = np.unravel_index(data.argmin(),data.shape)\n",
    "mask = np.where(data < data.mean(),1,0)\n",
    "flood = floodFill(x,y,mask)\n",
    "write_array(flood,'test')\n",
    "write_array(data,'data')"
   ]
  },
  {
   "cell_type": "code",
   "execution_count": 4,
   "metadata": {
    "collapsed": true
   },
   "outputs": [],
   "source": [
    "ds = gdal.Open('test.tif')\n",
    "band = ds.GetRasterBand(1)\n",
    "drv = ogr.GetDriverByName(\"ESRI Shapefile\")\n",
    "srs = osr.SpatialReference()\n",
    "srs.ImportFromWkt(ds.GetProjectionRef())\n",
    "out = drv.CreateDataSource('test.shp')\n",
    "out_layer = out.CreateLayer('new',srs=None)\n",
    "fd = ogr.FieldDefn(\"DN\",ogr.OFTInteger)\n",
    "out_layer.CreateField(fd)\n",
    "gdal.Polygonize(band,None,out_layer,0,[],callback=None)\n",
    "out = None\n",
    "gdf = gpd.read_file('test.shp')"
   ]
  },
  {
   "cell_type": "code",
   "execution_count": 7,
   "metadata": {
    "collapsed": false
   },
   "outputs": [
    {
     "data": {
      "text/plain": [
       "1"
      ]
     },
     "execution_count": 7,
     "metadata": {},
     "output_type": "execute_result"
    }
   ],
   "source": [
    "flood.max()"
   ]
  },
  {
   "cell_type": "code",
   "execution_count": null,
   "metadata": {
    "collapsed": true
   },
   "outputs": [],
   "source": []
  }
 ],
 "metadata": {
  "kernelspec": {
   "display_name": "Python 3",
   "language": "python",
   "name": "python3"
  },
  "language_info": {
   "codemirror_mode": {
    "name": "ipython",
    "version": 3
   },
   "file_extension": ".py",
   "mimetype": "text/x-python",
   "name": "python",
   "nbconvert_exporter": "python",
   "pygments_lexer": "ipython3",
   "version": "3.5.2"
  }
 },
 "nbformat": 4,
 "nbformat_minor": 1
}
