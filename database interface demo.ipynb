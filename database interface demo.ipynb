{
 "cells": [
  {
   "cell_type": "code",
   "execution_count": 2,
   "metadata": {
    "collapsed": true
   },
   "outputs": [],
   "source": [
    "from cycsat import Interface\n",
    "from cycsat.data_model import Base\n",
    "from cycsat.data_model import Satellite, Instrument, Mission\n",
    "from cycsat.data_model import Site, Feature\n",
    "from cycsat.data_model import Scene, Event"
   ]
  },
  {
   "cell_type": "code",
   "execution_count": 3,
   "metadata": {
    "collapsed": true
   },
   "outputs": [],
   "source": [
    "# create the interface\n",
    "hq = Interface('example2')"
   ]
  },
  {
   "cell_type": "code",
   "execution_count": 4,
   "metadata": {
    "collapsed": true
   },
   "outputs": [],
   "source": [
    "# create a satellite and add instruments\n",
    "sat = Satellite(name='land viewer')\n",
    "sat.instruments = [\n",
    "    Instrument(name='thermal'),\n",
    "    Instrument(name='RGB')\n",
    "    ]\n",
    "\n",
    "# create a new mission with one site\n",
    "sat.missions = [Mission(name='pilot mission')]\n",
    "sat.missions[0].sites = [Site(name='reactor')]\n",
    "\n",
    "sat.missions[0].sites[0].features = [Feature(name='building')]\n",
    "\n",
    "# save the data to the database\n",
    "hq.session.add(sat)\n",
    "hq.session.commit()"
   ]
  }
 ],
 "metadata": {
  "kernelspec": {
   "display_name": "Python 3",
   "language": "python",
   "name": "python3"
  },
  "language_info": {
   "codemirror_mode": {
    "name": "ipython",
    "version": 3
   },
   "file_extension": ".py",
   "mimetype": "text/x-python",
   "name": "python",
   "nbconvert_exporter": "python",
   "pygments_lexer": "ipython3",
   "version": "3.5.2"
  }
 },
 "nbformat": 4,
 "nbformat_minor": 1
}
